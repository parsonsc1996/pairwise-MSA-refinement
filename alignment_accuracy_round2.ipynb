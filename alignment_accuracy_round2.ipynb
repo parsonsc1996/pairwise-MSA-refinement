{
 "cells": [
  {
   "cell_type": "code",
   "execution_count": 1,
   "metadata": {},
   "outputs": [],
   "source": [
    "%run \"~/alignment_accuracy/alignment_accuracy_functions.ipynb\""
   ]
  },
  {
   "cell_type": "code",
   "execution_count": 2,
   "metadata": {},
   "outputs": [],
   "source": [
    "#pairwise-bootstrapping?\n",
    "import numpy as np\n",
    "import matplotlib.pyplot as plt\n",
    "import seaborn as sns\n",
    "\n",
    "import os \n",
    "\n",
    "alphabet = {\"-\":0, \"A\": 1, \"R\": 2, \"N\":3, \"D\":4, \"C\":5, \"Q\":6, \"E\":7, \"G\":8,\n",
    "            \"H\":9, \"I\":10, \"L\":11, \"K\":12, \"M\":13, \"F\":14, \"P\":15, \n",
    "            \"S\":16, \"T\":17, \"W\":18, \"Y\":19, \"V\":20, \"X\":21}\n",
    "inverse_alphabet = {alphabet[x]:x for x in alphabet}\n",
    "\n",
    "import math\n",
    "INF = math.inf\n",
    "\n",
    "import random\n",
    "\n",
    "from Bio import Align\n",
    "\n",
    "from IPython.display import clear_output"
   ]
  },
  {
   "cell_type": "code",
   "execution_count": 3,
   "metadata": {},
   "outputs": [],
   "source": [
    "run_name = \"PF00413_rp15_muscle\""
   ]
  },
  {
   "cell_type": "code",
   "execution_count": 4,
   "metadata": {},
   "outputs": [],
   "source": [
    "make_shorter = False\n",
    "\n",
    "if make_shorter:\n",
    "    seqDictTemp = {}\n",
    "    with open(\"pl8_seed_eros.fasta\") as f:\n",
    "        cur = \"\"\n",
    "        for line in f:\n",
    "            if line[0] == \">\":\n",
    "                cur = line[1:].strip()\n",
    "                seqDictTemp[cur] = \"\"\n",
    "            else:\n",
    "                seqDictTemp[cur] += line.strip().replace(\"X\",\"-\")\n",
    "\n",
    "    count = 0\n",
    "    with open(\"pl8_seed_eros_short.fasta\", 'w') as out:\n",
    "        for seq in seqDictTemp:\n",
    "            if len(seqDictTemp[seq]) <= 1000:\n",
    "                count += 1\n",
    "                out.write(\">\" + seq + \"\\n\" + seqDictTemp[seq] + \"\\n\")\n",
    "\n",
    "    print(count)"
   ]
  },
  {
   "cell_type": "code",
   "execution_count": 5,
   "metadata": {},
   "outputs": [
    {
     "name": "stdout",
     "output_type": "stream",
     "text": [
      "Fasta processed. Converting to matrix.\n",
      "\n",
      " 1860 sequences loaded.\n",
      " 872 sites.\n",
      " 139.21 average length.\n"
     ]
    }
   ],
   "source": [
    "#alignment_file = \"test.afa\"\n",
    "alignment_file = run_name + \".afa\"\n",
    "\n",
    "max_num_seqs = INF\n",
    "max_seq_len = INF\n",
    "\n",
    "seqDict = file_to_seq_dict(alignment_file)\n",
    "\n",
    "#with open(alignment_file) as f:\n",
    "#    cur = \"\"\n",
    "#    for line in f:\n",
    "#        if line[0] == \">\":\n",
    "#            if len(seqDict) > max_num_seqs:\n",
    "#                break\n",
    "#            cur = line[1:].strip()\n",
    "#            seqDict[cur] = \"\"\n",
    "#        else:\n",
    "#            seqDict[cur] += line.strip().replace(\"X\",\"-\")\n",
    "\n",
    "for seq in seqDict.copy():\n",
    "    if len(seqDict[seq]) > max_seq_len:\n",
    "        seqDict.pop(seq)\n",
    "        \n",
    "alignment_len = max([len(x) for x in list(seqDict.values())])\n",
    "num_seqs = len(seqDict)\n",
    "mean_seq_len = np.mean([len(x.replace(\"-\",\"\")) for x in list(seqDict.values())])\n",
    "\n",
    "print(\"Fasta processed. Converting to matrix.\")\n",
    "\n",
    "sequence_matrix, labels = seq_dict_to_matrix(seqDict)\n",
    "\n",
    "#labels = np.empty((num_seqs, 1), dtype=object)\n",
    "#sequence_matrix = np.empty((num_seqs, alignment_len), dtype=object)\n",
    "#i = 0\n",
    "#for label in seqDict:\n",
    "#    labels[i, 0] = label\n",
    "#    seq = seqDict[label]\n",
    "#    sequence_matrix[i] = np.array([x.strip() for x in seq])\n",
    "#    i += 1\n",
    "\n",
    "print(\"\\n\", num_seqs, \"sequences loaded.\\n\", alignment_len, \"sites.\\n\", round(mean_seq_len, 2), \"average length.\")"
   ]
  },
  {
   "cell_type": "code",
   "execution_count": 6,
   "metadata": {},
   "outputs": [
    {
     "name": "stdout",
     "output_type": "stream",
     "text": [
      "(1860, 872)\n"
     ]
    },
    {
     "data": {
      "text/plain": [
       "(0.0, 100.0)"
      ]
     },
     "execution_count": 6,
     "metadata": {},
     "output_type": "execute_result"
    },
    {
     "data": {
      "image/png": "[encoded data removed]",
      "text/plain": [
       "<Figure size 432x288 with 1 Axes>"
      ]
     },
     "metadata": {
      "needs_background": "light"
     },
     "output_type": "display_data"
    }
   ],
   "source": [
    "#print(list(sequence_matrix[0,:]))\n",
    "print(sequence_matrix.shape)\n",
    "occupancy = [(100 * np.count_nonzero(sequence_matrix[:, x] != \"-\") / num_seqs) for x in range(alignment_len)]\n",
    "#print(occupancy)\n",
    "plt.bar(list(range(alignment_len)), occupancy, align='edge', width=1)\n",
    "plt.xlabel(\"Site Number\")\n",
    "plt.ylabel(\"Percent Occupancy\")\n",
    "plt.xlim(0, alignment_len)\n",
    "plt.ylim(0, 100)"
   ]
  },
  {
   "cell_type": "code",
   "execution_count": 7,
   "metadata": {},
   "outputs": [
    {
     "name": "stdout",
     "output_type": "stream",
     "text": [
      "149 / 872 sites with > 50% occupancy\n"
     ]
    },
    {
     "data": {
      "image/png": "[encoded data removed]",
      "text/plain": [
       "<Figure size 432x288 with 1 Axes>"
      ]
     },
     "metadata": {
      "needs_background": "light"
     },
     "output_type": "display_data"
    }
   ],
   "source": [
    "plt.hist(occupancy, bins=10)\n",
    "plt.xlim(0,100)\n",
    "print(len([x for x in occupancy if x>50]), \"/\", len(occupancy), \"sites with > 50% occupancy\")\n",
    "#print(len([x for x in occupancy if x==min(occupancy)]), \"/\", len(occupancy), \"singleton sites\")"
   ]
  },
  {
   "cell_type": "code",
   "execution_count": 8,
   "metadata": {},
   "outputs": [
    {
     "name": "stdout",
     "output_type": "stream",
     "text": [
      "Shuffle round: 0 , Pairing 173 / 930\n"
     ]
    },
    {
     "ename": "KeyboardInterrupt",
     "evalue": "",
     "output_type": "error",
     "traceback": [
      "\u001b[0;31m---------------------------------------------------------------------------\u001b[0m",
      "\u001b[0;31mKeyboardInterrupt\u001b[0m                         Traceback (most recent call last)",
      "\u001b[0;32m<ipython-input-8-b386a8bf10d0>\u001b[0m in \u001b[0;36m<module>\u001b[0;34m\u001b[0m\n\u001b[1;32m     48\u001b[0m \u001b[0;34m\u001b[0m\u001b[0m\n\u001b[1;32m     49\u001b[0m         \u001b[0;32mfor\u001b[0m \u001b[0mi\u001b[0m \u001b[0;32min\u001b[0m \u001b[0mrange\u001b[0m\u001b[0;34m(\u001b[0m\u001b[0mlen\u001b[0m\u001b[0;34m(\u001b[0m\u001b[0mseq_b\u001b[0m\u001b[0;34m)\u001b[0m\u001b[0;34m)\u001b[0m\u001b[0;34m:\u001b[0m\u001b[0;34m\u001b[0m\u001b[0;34m\u001b[0m\u001b[0m\n\u001b[0;32m---> 50\u001b[0;31m             \u001b[0;32mif\u001b[0m \u001b[0mnp\u001b[0m\u001b[0;34m.\u001b[0m\u001b[0msum\u001b[0m\u001b[0;34m(\u001b[0m\u001b[0mfreq_b\u001b[0m\u001b[0;34m[\u001b[0m\u001b[0mi\u001b[0m\u001b[0;34m,\u001b[0m\u001b[0;34m:\u001b[0m\u001b[0;34m]\u001b[0m\u001b[0;34m)\u001b[0m \u001b[0;34m==\u001b[0m \u001b[0;36m0\u001b[0m\u001b[0;34m:\u001b[0m\u001b[0;34m\u001b[0m\u001b[0;34m\u001b[0m\u001b[0m\n\u001b[0m\u001b[1;32m     51\u001b[0m                 \u001b[0mfreq_b\u001b[0m\u001b[0;34m[\u001b[0m\u001b[0mi\u001b[0m\u001b[0;34m,\u001b[0m \u001b[0malphabet\u001b[0m\u001b[0;34m[\u001b[0m\u001b[0;34m\"-\"\u001b[0m\u001b[0;34m]\u001b[0m\u001b[0;34m]\u001b[0m \u001b[0;34m=\u001b[0m \u001b[0;36m1\u001b[0m\u001b[0;34m\u001b[0m\u001b[0;34m\u001b[0m\u001b[0m\n\u001b[1;32m     52\u001b[0m \u001b[0;34m\u001b[0m\u001b[0m\n",
      "\u001b[0;32m<__array_function__ internals>\u001b[0m in \u001b[0;36msum\u001b[0;34m(*args, **kwargs)\u001b[0m\n",
      "\u001b[0;32m/home/software/anaconda3/2020.11/lib/python3.8/site-packages/numpy/core/fromnumeric.py\u001b[0m in \u001b[0;36msum\u001b[0;34m(a, axis, dtype, out, keepdims, initial, where)\u001b[0m\n\u001b[1;32m   2239\u001b[0m         \u001b[0;32mreturn\u001b[0m \u001b[0mres\u001b[0m\u001b[0;34m\u001b[0m\u001b[0;34m\u001b[0m\u001b[0m\n\u001b[1;32m   2240\u001b[0m \u001b[0;34m\u001b[0m\u001b[0m\n\u001b[0;32m-> 2241\u001b[0;31m     return _wrapreduction(a, np.add, 'sum', axis, dtype, out, keepdims=keepdims,\n\u001b[0m\u001b[1;32m   2242\u001b[0m                           initial=initial, where=where)\n\u001b[1;32m   2243\u001b[0m \u001b[0;34m\u001b[0m\u001b[0m\n",
      "\u001b[0;32m/home/software/anaconda3/2020.11/lib/python3.8/site-packages/numpy/core/fromnumeric.py\u001b[0m in \u001b[0;36m_wrapreduction\u001b[0;34m(obj, ufunc, method, axis, dtype, out, **kwargs)\u001b[0m\n\u001b[1;32m     85\u001b[0m                 \u001b[0;32mreturn\u001b[0m \u001b[0mreduction\u001b[0m\u001b[0;34m(\u001b[0m\u001b[0maxis\u001b[0m\u001b[0;34m=\u001b[0m\u001b[0maxis\u001b[0m\u001b[0;34m,\u001b[0m \u001b[0mout\u001b[0m\u001b[0;34m=\u001b[0m\u001b[0mout\u001b[0m\u001b[0;34m,\u001b[0m \u001b[0;34m**\u001b[0m\u001b[0mpasskwargs\u001b[0m\u001b[0;34m)\u001b[0m\u001b[0;34m\u001b[0m\u001b[0;34m\u001b[0m\u001b[0m\n\u001b[1;32m     86\u001b[0m \u001b[0;34m\u001b[0m\u001b[0m\n\u001b[0;32m---> 87\u001b[0;31m     \u001b[0;32mreturn\u001b[0m \u001b[0mufunc\u001b[0m\u001b[0;34m.\u001b[0m\u001b[0mreduce\u001b[0m\u001b[0;34m(\u001b[0m\u001b[0mobj\u001b[0m\u001b[0;34m,\u001b[0m \u001b[0maxis\u001b[0m\u001b[0;34m,\u001b[0m \u001b[0mdtype\u001b[0m\u001b[0;34m,\u001b[0m \u001b[0mout\u001b[0m\u001b[0;34m,\u001b[0m \u001b[0;34m**\u001b[0m\u001b[0mpasskwargs\u001b[0m\u001b[0;34m)\u001b[0m\u001b[0;34m\u001b[0m\u001b[0;34m\u001b[0m\u001b[0m\n\u001b[0m\u001b[1;32m     88\u001b[0m \u001b[0;34m\u001b[0m\u001b[0m\n\u001b[1;32m     89\u001b[0m \u001b[0;34m\u001b[0m\u001b[0m\n",
      "\u001b[0;31mKeyboardInterrupt\u001b[0m: "
     ]
    }
   ],
   "source": [
    "n_shuffles = 300\n",
    "\n",
    "alphabet_size = len(alphabet)\n",
    "aligner = Align.PairwiseAligner()\n",
    "aligner.mode = \"global\"\n",
    "aligner.substitution_matrix = Align.substitution_matrices.load(\"BLOSUM62\")\n",
    "aligner.extend_gap_score = 0\n",
    "aligner.open_gap_score = -4\n",
    "\n",
    "frequencies = [None] * num_seqs\n",
    "\n",
    "for s in range(n_shuffles):\n",
    "    indices = list(range(num_seqs))\n",
    "    random.shuffle(indices)\n",
    "    for p in range(0, num_seqs - 1, 2):\n",
    "        clear_output(wait=True)\n",
    "        print(\"Shuffle round:\", s,\", Pairing\" , p // 2, \"/\", num_seqs // 2)\n",
    "        ind_a = indices[p]\n",
    "        ind_b = indices[p + 1]\n",
    "        #print(ind_a, ind_b)\n",
    "        seq_a = \"\".join(list(sequence_matrix[ind_a, :])).replace(\"-\", \"\")\n",
    "        seq_b = \"\".join(list(sequence_matrix[ind_b, :])).replace(\"-\", \"\")\n",
    "        alignments = aligner.align(seq_a, seq_b)\n",
    "        #print(alignments[0])\n",
    "        #print(alignments[0].aligned)\n",
    "        alignment_regions = alignments[0].aligned\n",
    "        #if p == 0:\n",
    "        #    print(alignments[0])\n",
    "        \n",
    "        freq_a = np.zeros((len(seq_a), alphabet_size))\n",
    "        freq_b = np.zeros((len(seq_b), alphabet_size))\n",
    "        for i in range(len(alignment_regions[0])):\n",
    "            seq_a_start, seq_a_end = alignment_regions[0][i]\n",
    "            seq_b_start, seq_b_end = alignment_regions[1][i]\n",
    "            chunk_size = seq_a_end - seq_a_start\n",
    "            #print(ind_a,ind_b,chunk_size)\n",
    "            for j in range(chunk_size):\n",
    "                a_site_ind = seq_a_start + j\n",
    "                b_site_ind = seq_b_start + j\n",
    "                a_site = seq_a[a_site_ind]\n",
    "                b_site = seq_b[b_site_ind]\n",
    "                freq_a[a_site_ind, alphabet[b_site]] = 1\n",
    "                freq_b[b_site_ind, alphabet[a_site]] = 1\n",
    "        \n",
    "        for i in range(len(seq_a)):\n",
    "            if np.sum(freq_a[i,:]) == 0:\n",
    "                freq_a[i, alphabet[\"-\"]] = 1\n",
    "                \n",
    "        for i in range(len(seq_b)):\n",
    "            if np.sum(freq_b[i,:]) == 0:\n",
    "                freq_b[i, alphabet[\"-\"]] = 1\n",
    "        \n",
    "        if not np.any(frequencies[ind_a]):\n",
    "            frequencies[ind_a] = freq_a\n",
    "        else:\n",
    "            frequencies[ind_a] += freq_a\n",
    "\n",
    "        if not np.any(frequencies[ind_b]):\n",
    "            frequencies[ind_b] = freq_b\n",
    "        else:\n",
    "            frequencies[ind_b] += freq_b"
   ]
  },
  {
   "cell_type": "code",
   "execution_count": 11,
   "metadata": {},
   "outputs": [],
   "source": [
    "if run_name+\"_300x.npz\" not in os.listdir():\n",
    "    print(\"a\")\n",
    "    #np.savez('PF00413_rp15_muscle_300x.npz', *frequencies)"
   ]
  },
  {
   "cell_type": "code",
   "execution_count": 9,
   "metadata": {},
   "outputs": [],
   "source": [
    "container = np.load(run_name + '_300x.npz')\n",
    "frequencies = [container[key] for key in container]\n",
    "frequenciesNorm = [x / (np.max(np.sum(x, axis=1))) for x in frequencies]"
   ]
  },
  {
   "cell_type": "code",
   "execution_count": 10,
   "metadata": {},
   "outputs": [
    {
     "name": "stdout",
     "output_type": "stream",
     "text": [
      "[[ 86.  70.   8. ...   0.   7.   0.]\n",
      " [101.   3.  15. ...   4.   1.   0.]\n",
      " [ 97.   7.   0. ...   3. 105.   0.]\n",
      " ...\n",
      " [ 49.   1.   3. ...  35.   0.   0.]\n",
      " [ 54.   4.   0. ...   1.   1.   0.]\n",
      " [ 16.   0.  12. ...  22.   0.   0.]]\n",
      "300.0\n",
      "(96, 22)\n",
      "[[0.28666667 0.23333333 0.02666667 ... 0.         0.02333333 0.        ]\n",
      " [0.33666667 0.01       0.05       ... 0.01333333 0.00333333 0.        ]\n",
      " [0.32333333 0.02333333 0.         ... 0.01       0.35       0.        ]\n",
      " ...\n",
      " [0.16333333 0.00333333 0.01       ... 0.11666667 0.         0.        ]\n",
      " [0.18       0.01333333 0.         ... 0.00333333 0.00333333 0.        ]\n",
      " [0.05333333 0.         0.04       ... 0.07333333 0.         0.        ]]\n",
      "[1. 1. 1. 1. 1. 1. 1. 1. 1. 1. 1. 1. 1. 1. 1. 1. 1. 1. 1. 1. 1. 1. 1. 1.\n",
      " 1. 1. 1. 1. 1. 1. 1. 1. 1. 1. 1. 1. 1. 1. 1. 1. 1. 1. 1. 1. 1. 1. 1. 1.\n",
      " 1. 1. 1. 1. 1. 1. 1. 1. 1. 1. 1. 1. 1. 1. 1. 1. 1. 1. 1. 1. 1. 1. 1. 1.\n",
      " 1. 1. 1. 1. 1. 1. 1. 1. 1. 1. 1. 1. 1. 1. 1. 1. 1. 1. 1. 1. 1. 1. 1. 1.]\n"
     ]
    }
   ],
   "source": [
    "print(frequencies[0])\n",
    "#print(np.mean(frequencies[0], axis=0))\n",
    "#print(np.sum(frequencies[0], axis=1))\n",
    "print(np.max(np.sum(frequencies[0], axis=1)))\n",
    "print(frequencies[0].shape)\n",
    "#print(np.sum(frequencies[0]))\n",
    "#print(frequencies[0].shape[0] * frequencies[0].shape[1])\n",
    "#print(np.sum(frequencies[0], axis=1)[:, np.newaxis])\n",
    "print(frequenciesNorm[0])\n",
    "print(np.sum(frequenciesNorm[0], axis=1))"
   ]
  },
  {
   "cell_type": "code",
   "execution_count": 11,
   "metadata": {},
   "outputs": [],
   "source": [
    "alignmentMatrix = sequence_matrix.copy()\n",
    "alignmentFrequencies = get_aa_frequencies_by_site(alignmentMatrix, alphabet=alphabet)\n",
    "#print(alignmentFrequencyMatrix)"
   ]
  },
  {
   "cell_type": "code",
   "execution_count": 15,
   "metadata": {},
   "outputs": [],
   "source": [
    "updated_alignmentMatrix = modifyAlignmentBasedOnPairwiseFrequencies(alignmentMatrix, frequenciesNorm, \n",
    "                                                                    threshold=0.2, delete_bad=True)"
   ]
  },
  {
   "cell_type": "code",
   "execution_count": 16,
   "metadata": {},
   "outputs": [],
   "source": [
    "updated_seqDict = matrix_to_dictionary(updated_alignmentMatrix, labels)\n",
    "with open(run_name + \"_trimmed_20_300x.afa\", 'w') as out:\n",
    "    for seq in updated_seqDict:\n",
    "        out.write(\">\" + seq + \"\\n\" + updated_seqDict[seq] + \"\\n\")"
   ]
  },
  {
   "cell_type": "code",
   "execution_count": 17,
   "metadata": {},
   "outputs": [
    {
     "name": "stdout",
     "output_type": "stream",
     "text": [
      "(1860, 872) (872,) (872,)\n"
     ]
    },
    {
     "data": {
      "text/plain": [
       "(0.0, 100.0)"
      ]
     },
     "execution_count": 17,
     "metadata": {},
     "output_type": "execute_result"
    },
    {
     "data": {
      "image/png": "[encoded data removed]",
      "text/plain": [
       "<Figure size 432x288 with 1 Axes>"
      ]
     },
     "metadata": {
      "needs_background": "light"
     },
     "output_type": "display_data"
    }
   ],
   "source": [
    "updated_deleted90 = modifyAlignmentBasedOnPairwiseFrequencies(alignmentMatrix, frequenciesNorm, \n",
    "                                                              threshold=0.9, delete_bad=True, \n",
    "                                                              metric=cos_vector_angle_exclude)\n",
    "deleted_counts90 = np.count_nonzero(updated_deleted90==\"X\",axis=0)\n",
    "formerly_filled_counts90 = np.count_nonzero(updated_deleted90!=\"-\",axis=0)\n",
    "print(updated_deleted90.shape, deleted_counts90.shape, formerly_filled_counts90.shape)\n",
    "\n",
    "updated_deleted70 = modifyAlignmentBasedOnPairwiseFrequencies(alignmentMatrix, frequenciesNorm, \n",
    "                                                              threshold=0.7, delete_bad=True, \n",
    "                                                              metric=cos_vector_angle_exclude)\n",
    "deleted_counts70 = np.count_nonzero(updated_deleted70==\"X\",axis=0)\n",
    "formerly_filled_counts70 = np.count_nonzero(updated_deleted70!=\"-\",axis=0)\n",
    "\n",
    "\n",
    "updated_deleted50 = modifyAlignmentBasedOnPairwiseFrequencies(alignmentMatrix, frequenciesNorm, \n",
    "                                                              threshold=0.5, delete_bad=True, \n",
    "                                                              metric=cos_vector_angle_exclude)\n",
    "deleted_counts50 = np.count_nonzero(updated_deleted50==\"X\",axis=0)\n",
    "formerly_filled_counts50 = np.count_nonzero(updated_deleted50!=\"-\",axis=0)\n",
    " \n",
    "updated_deleted20 = modifyAlignmentBasedOnPairwiseFrequencies(alignmentMatrix, frequenciesNorm, \n",
    "                                                              threshold=0.2, delete_bad=True, \n",
    "                                                              metric=cos_vector_angle_exclude)\n",
    "deleted_counts20 = np.count_nonzero(updated_deleted20==\"X\",axis=0)\n",
    "formerly_filled_counts20 = np.count_nonzero(updated_deleted20!=\"-\",axis=0)\n",
    "\n",
    "updated_deleted100 = modifyAlignmentBasedOnPairwiseFrequencies(alignmentMatrix, frequenciesNorm, \n",
    "                                                              threshold=1, delete_bad=True, \n",
    "                                                              metric=cos_vector_angle_exclude)\n",
    "deleted_counts100 = np.count_nonzero(updated_deleted100==\"X\",axis=0)\n",
    "formerly_filled_counts100 = np.count_nonzero(updated_deleted100!=\"-\",axis=0)\n",
    "\n",
    "plt.bar(range(len(formerly_filled_counts20)), 100 * formerly_filled_counts20/alignmentMatrix.shape[0], align='edge', width=1)\n",
    "plt.xlim(0, alignment_len)\n",
    "plt.ylim(0, 100)"
   ]
  },
  {
   "cell_type": "code",
   "execution_count": 18,
   "metadata": {},
   "outputs": [
    {
     "data": {
      "text/plain": [
       "Text(0, 0.5, 'Fraction Below Threshold')"
      ]
     },
     "execution_count": 18,
     "metadata": {},
     "output_type": "execute_result"
    },
    {
     "data": {
      "image/png": "[encoded data removed]",
      "text/plain": [
       "<Figure size 576x432 with 1 Axes>"
      ]
     },
     "metadata": {
      "needs_background": "light"
     },
     "output_type": "display_data"
    }
   ],
   "source": [
    "fig, ax = plt.subplots(figsize=(8, 6))\n",
    "\n",
    "\n",
    "ax.set_facecolor(\"limegreen\")\n",
    "#plt.bar(range(len(deleted_counts90)), deleted_counts90 / num_seqs, color=\"cyan\")\n",
    "#plt.bar(range(len(deleted_counts70)), deleted_counts70 / num_seqs, color=\"green\")\n",
    "#plt.bar(range(len(deleted_counts50)), deleted_counts50 / num_seqs, color=\"gold\")\n",
    "#plt.bar(range(len(deleted_counts20)), deleted_counts20 / num_seqs, color=\"red\")\n",
    "\n",
    "formerly_filled_counts = formerly_filled_counts100.copy()\n",
    "formerly_filled_counts[formerly_filled_counts==0] = 1\n",
    "plt.bar(range(len(deleted_counts100)), deleted_counts100 / formerly_filled_counts, color=\"green\",width=1, align='edge')\n",
    "plt.bar(range(len(deleted_counts90)), deleted_counts90 / formerly_filled_counts, color=\"cyan\",width=1, align='edge')\n",
    "plt.bar(range(len(deleted_counts70)), deleted_counts70 / formerly_filled_counts, color=\"gold\",width=1, align='edge')\n",
    "plt.bar(range(len(deleted_counts50)), deleted_counts50 / formerly_filled_counts, color=\"orange\",width=1, align='edge')\n",
    "plt.bar(range(len(deleted_counts20)), deleted_counts20 / formerly_filled_counts, color=\"red\",width=1, align='edge')\n",
    "#plt.bar(range(len(deleted_counts20)), [int(x < 0.01*alignmentMatrix.shape[0]) for x in formerly_filled_counts], color=\"black\", alpha=0.5)\n",
    "plt.xlim(0, alignment_len)\n",
    "plt.ylim(0, 1)\n",
    "\n",
    "plt.xlabel(\"Site in Alignment\")\n",
    "plt.ylabel(\"Fraction Below Threshold\")"
   ]
  },
  {
   "cell_type": "code",
   "execution_count": 13,
   "metadata": {},
   "outputs": [
    {
     "name": "stdout",
     "output_type": "stream",
     "text": [
      "Alignment match matrices: 1860 / 1860 \n",
      "Sequences realigned: 1860 | Length: {872}\n"
     ]
    }
   ],
   "source": [
    "if run_name + '_300x_heatmaps.npz' not in os.listdir():\n",
    "    heatMaps = []\n",
    "    indices = []\n",
    "else:\n",
    "    container = np.load(run_name + '_300x_heatmaps.npz')\n",
    "    heatMaps = [container[key] for key in container]\n",
    "    indices = list(range(len(heatMaps)))\n",
    "    \n",
    "if run_name + \"_realigned_300x.afa\" not in os.listdir():\n",
    "    realignment_seq_dict = {}\n",
    "    out = open(run_name + \"_realigned_300x.afa\", 'w')\n",
    "    out.close()\n",
    "    realignments = []\n",
    "else:\n",
    "    realignment_seq_dict = file_to_seq_dict(run_name + \"_realigned_300x.afa\")\n",
    "    sequence_matrix_2, labels_2 = seq_dict_to_matrix(realignment_seq_dict)\n",
    "    paths = [get_seq_to_align(seq, sequence_matrix_2) for seq in range(len(realignment_seq_dict))]\n",
    "    scores = [[heatMaps[seq][s,paths[seq][s]] for s in range(len(paths[seq]))] for seq in range(len(paths))]\n",
    "    realignments = [[(np.sum(scores[seq]), scores[seq], paths[seq])] for seq in range(len(paths))]\n",
    "\n",
    "prealignments = [get_seq_to_align(seq, sequence_matrix) for seq in range(sequence_matrix.shape[0])]\n",
    "#print(realignments[0][2], '\\n', prealignments[0])\n",
    "#print(realignments[0])\n",
    "print(\"Alignment match matrices:\", len(heatMaps), \"/\", len(frequenciesNorm), \n",
    "      \"\\nSequences realigned:\", len(realignment_seq_dict), \"| Length:\", \n",
    "      set([len(realignment_seq_dict[x]) for x in realignment_seq_dict]))"
   ]
  },
  {
   "cell_type": "code",
   "execution_count": 14,
   "metadata": {},
   "outputs": [
    {
     "name": "stdout",
     "output_type": "stream",
     "text": [
      "1860 1860\n",
      "[0, 1, 2, 3, 4, 5, 6, 7, 8, 9] [1850, 1851, 1852, 1853, 1854, 1855, 1856, 1857, 1858, 1859]\n"
     ]
    }
   ],
   "source": [
    "print(len(heatMaps), len(indices))\n",
    "print(indices[:10], indices[-10:])\n",
    "for x in range(len(heatMaps), len(frequenciesNorm)):\n",
    "    clear_output(wait=True)\n",
    "    print(len(heatMaps),\"/\",len(frequencies), round(len(heatMaps)/len(frequencies)*100, 1), \"%\")\n",
    "    print(indices[:10], indices[-10:])\n",
    "    if x in indices:\n",
    "        continue\n",
    "    heatMaps.append(get_match_matrix(frequenciesNorm[x], alignmentFrequencies, metric=cos_vector_angle_exclude))\n",
    "    indices.append(y)\n"
   ]
  },
  {
   "cell_type": "code",
   "execution_count": 164,
   "metadata": {},
   "outputs": [],
   "source": [
    "np.savez(run_name + '_300x_heatmaps.npz', *heatMaps)"
   ]
  },
  {
   "cell_type": "code",
   "execution_count": 15,
   "metadata": {},
   "outputs": [],
   "source": [
    "for i in range(len(realignments), len(heatMaps)):\n",
    "    seq_to_align = get_seq_to_align(i, sequence_matrix)\n",
    "    realignments.append(align_sequence_to_matrix(heatMaps[i], pre_alignment=seq_to_align, verbose=True))"
   ]
  },
  {
   "cell_type": "code",
   "execution_count": 16,
   "metadata": {},
   "outputs": [],
   "source": [
    "if run_name + \"_realigned_300x.afa\" not in os.listdir():\n",
    "    realignmentMatrix = np.empty((len(realignments), sequence_matrix.shape[1]), dtype=object)\n",
    "    for i in range(len(realignments)):\n",
    "        #print(i)\n",
    "        realignment = realignments[i][0][2]\n",
    "        #print(realignment)\n",
    "        sequence = \"\".join((sequence_matrix[i, :])).replace(\"-\",\"\")\n",
    "        aligned_sequence = [sequence[realignment.index(x)] if x in realignment else \"-\" for x in range(sequence_matrix.shape[1])]\n",
    "        if len(\"\".join(aligned_sequence).replace(\"-\", \"\")) != len(realignment):\n",
    "            print(realignment)\n",
    "        realignmentMatrix[i,:] = aligned_sequence\n",
    "    print(realignmentMatrix.shape)\n",
    "    realigned_seq_dict = matrix_to_dictionary(realignmentMatrix, labels)\n",
    "    with open(run_name + \"_realigned_300x.afa\", 'w') as out:\n",
    "        for seq in realigned_seq_dict:\n",
    "            out.write(\">\" + seq + \"\\n\" + realigned_seq_dict[seq] + \"\\n\")"
   ]
  },
  {
   "cell_type": "code",
   "execution_count": 17,
   "metadata": {},
   "outputs": [
    {
     "name": "stdout",
     "output_type": "stream",
     "text": [
      "Sequence:        1459 / 1860\n",
      "Alignment score: 60.46 / 88\n",
      "Refined scores: [72.02]\n"
     ]
    }
   ],
   "source": [
    "#realignments = [] \n",
    "seqs_to_align = [get_seq_to_align(seq, sequence_matrix) for seq in range(len(realignments))]\n",
    "alignment_scores = [[heatMaps[seq][s, seqs_to_align[seq][s]] for s in range(len(seqs_to_align[seq]))] \n",
    "                    for seq in range(len(realignments))]\n",
    "\n",
    "rando = np.random.randint(len(realignments))\n",
    "seq_to_align = seqs_to_align[rando]\n",
    "alignment_score = np.sum(alignment_scores[rando])\n",
    "\n",
    "print(\"Sequence:       \", rando+1, \"/\", len(realignments))\n",
    "print(\"Alignment score:\", round(alignment_score, 2), \"/\", len(realignments[rando][0][2]))\n",
    "print(\"Refined scores:\", [round(x[0],2) for x in realignments[rando]])"
   ]
  },
  {
   "cell_type": "code",
   "execution_count": 18,
   "metadata": {},
   "outputs": [
    {
     "name": "stdout",
     "output_type": "stream",
     "text": [
      "Slope: 0.4799136834170503 Intercept: 0.49104040555044215\n",
      "Alignment mean: 0.7985977256555519 Refined mean: 0.8742983816382771\n"
     ]
    },
    {
     "data": {
      "text/plain": [
       "Text(0, 0.5, 'Realignment Pairwise Score')"
      ]
     },
     "execution_count": 18,
     "metadata": {},
     "output_type": "execute_result"
    },
    {
     "data": {
      "image/png": "[encoded data removed]",
      "text/plain": [
       "<Figure size 432x432 with 1 Axes>"
      ]
     },
     "metadata": {
      "needs_background": "light"
     },
     "output_type": "display_data"
    }
   ],
   "source": [
    "#print([seq[0][0] for seq in realignments])\n",
    "#print(alignment_scores)\n",
    "fig, ax = plt.subplots(figsize=(6,6))\n",
    "ax.scatter([np.sum(x)/len(x) for x in alignment_scores], [seq[0][0]/len(seq[0][1]) for seq in realignments], marker=\"x\", alpha=0.4, color=\"black\")\n",
    "ax.set_xlim(0,1)\n",
    "ax.set_ylim(0,1)\n",
    "ax.plot(np.linspace(0,1,3), np.linspace(0,1,3), color=\"black\",zorder=-1, linestyle=\"--\")\n",
    "m, b = np.polyfit([np.sum(x)/len(x) for x in alignment_scores], [seq[0][0]/len(seq[0][1]) for seq in realignments], 1)\n",
    "ax.plot (np.linspace(0,1,100), [m*x + b for x in np.linspace(0,1,100)],color=\"red\", alpha=1, linestyle=\":\")\n",
    "print(\"Slope:\", m, \"Intercept:\", b)\n",
    "print(\"Alignment mean:\", np.mean([np.sum(x)/len(x) for x in alignment_scores]), \n",
    "      \"Refined mean:\", np.mean([seq[0][0]/len(seq[0][1]) for seq in realignments]))\n",
    "ax.set_xlabel(\"Alignment Pairwise Score\")\n",
    "ax.set_ylabel(\"Realignment Pairwise Score\")"
   ]
  },
  {
   "cell_type": "code",
   "execution_count": null,
   "metadata": {},
   "outputs": [],
   "source": [
    "updated_deleted90 = modifyAlignmentBasedOnPairwiseFrequencies(sequence_matrix_2, frequenciesNorm, \n",
    "                                                              threshold=0.9, delete_bad=True, \n",
    "                                                              metric=cos_vector_angle_exclude)\n",
    "deleted_counts90 = np.count_nonzero(updated_deleted90==\"X\",axis=0)\n",
    "formerly_filled_counts90 = np.count_nonzero(updated_deleted90!=\"-\",axis=0)\n",
    "print(updated_deleted90.shape, deleted_counts90.shape, formerly_filled_counts90.shape)\n",
    "\n",
    "updated_deleted70 = modifyAlignmentBasedOnPairwiseFrequencies(sequence_matrix_2, frequenciesNorm, \n",
    "                                                              threshold=0.7, delete_bad=True, \n",
    "                                                              metric=cos_vector_angle_exclude)\n",
    "deleted_counts70 = np.count_nonzero(updated_deleted70==\"X\",axis=0)\n",
    "formerly_filled_counts70 = np.count_nonzero(updated_deleted70!=\"-\",axis=0)\n",
    "\n",
    "\n",
    "updated_deleted50 = modifyAlignmentBasedOnPairwiseFrequencies(sequence_matrix_2, frequenciesNorm, \n",
    "                                                              threshold=0.5, delete_bad=True, \n",
    "                                                              metric=cos_vector_angle_exclude)\n",
    "deleted_counts50 = np.count_nonzero(updated_deleted50==\"X\",axis=0)\n",
    "formerly_filled_counts50 = np.count_nonzero(updated_deleted50!=\"-\",axis=0)\n",
    " \n",
    "updated_deleted20 = modifyAlignmentBasedOnPairwiseFrequencies(sequence_matrix_2, frequenciesNorm, \n",
    "                                                              threshold=0.2, delete_bad=True, \n",
    "                                                              metric=cos_vector_angle_exclude)\n",
    "deleted_counts20 = np.count_nonzero(updated_deleted20==\"X\",axis=0)\n",
    "formerly_filled_counts20 = np.count_nonzero(updated_deleted20!=\"-\",axis=0)\n",
    "\n",
    "updated_deleted100 = modifyAlignmentBasedOnPairwiseFrequencies(sequence_matrix_2, frequenciesNorm, \n",
    "                                                              threshold=1, delete_bad=True, \n",
    "                                                              metric=cos_vector_angle_exclude)\n",
    "deleted_counts100 = np.count_nonzero(updated_deleted100==\"X\",axis=0)\n",
    "formerly_filled_counts100 = np.count_nonzero(updated_deleted100!=\"-\",axis=0)\n",
    "\n",
    "\n",
    "plt.bar(range(len(formerly_filled_counts20)), 100 * formerly_filled_counts20/sequence_matrix_2.shape[0], align='edge', width=1)\n",
    "plt.xlim(0, alignment_len)\n",
    "plt.ylim(0, 100)"
   ]
  },
  {
   "cell_type": "code",
   "execution_count": 214,
   "metadata": {},
   "outputs": [
    {
     "data": {
      "text/plain": [
       "Text(0, 0.5, 'Fraction Below Threshold')"
      ]
     },
     "execution_count": 214,
     "metadata": {},
     "output_type": "execute_result"
    },
    {
     "data": {
      "image/png": "[encoded data removed]",
      "text/plain": [
       "<Figure size 576x432 with 1 Axes>"
      ]
     },
     "metadata": {
      "needs_background": "light"
     },
     "output_type": "display_data"
    }
   ],
   "source": [
    "fig, ax = plt.subplots(figsize=(8, 6))\n",
    "\n",
    "ax.set_facecolor(\"limegreen\")\n",
    "\n",
    "formerly_filled_counts = formerly_filled_counts100.copy()\n",
    "formerly_filled_counts[formerly_filled_counts==0] = 1\n",
    "plt.bar(range(len(deleted_counts100)), deleted_counts100 / formerly_filled_counts, color=\"green\",width=1, align='edge')\n",
    "plt.bar(range(len(deleted_counts90)), deleted_counts90 / formerly_filled_counts, color=\"cyan\",width=1, align='edge')\n",
    "plt.bar(range(len(deleted_counts70)), deleted_counts70 / formerly_filled_counts, color=\"gold\",width=1, align='edge')\n",
    "plt.bar(range(len(deleted_counts50)), deleted_counts50 / formerly_filled_counts, color=\"orange\",width=1, align='edge')\n",
    "plt.bar(range(len(deleted_counts20)), deleted_counts20 / formerly_filled_counts, color=\"red\",width=1, align='edge')\n",
    "#plt.bar(range(len(deleted_counts20)), [int(x < 0.01*alignmentMatrix.shape[0]) for x in formerly_filled_counts], color=\"black\", alpha=0.5)\n",
    "plt.xlim(0, alignment_len)\n",
    "plt.ylim(0, 1)\n",
    "\n",
    "plt.xlabel(\"Site in Alignment\")\n",
    "plt.ylabel(\"Fraction Below Threshold\")"
   ]
  },
  {
   "cell_type": "code",
   "execution_count": 19,
   "metadata": {},
   "outputs": [],
   "source": [
    "updated_alignmentMatrix = modifyAlignmentBasedOnPairwiseFrequencies(sequence_matrix_2, frequenciesNorm, \n",
    "                                                                    threshold=0.5, delete_bad=True)"
   ]
  },
  {
   "cell_type": "code",
   "execution_count": 212,
   "metadata": {},
   "outputs": [],
   "source": [
    "updated_seqDict = matrix_to_dictionary(updated_alignmentMatrix, labels)\n",
    "with open(run_name + \"_realigned_trimmed_50_300x.afa\", 'w') as out:\n",
    "    for seq in updated_seqDict:\n",
    "        out.write(\">\" + seq + \"\\n\" + updated_seqDict[seq] + \"\\n\")"
   ]
  },
  {
   "cell_type": "code",
   "execution_count": 20,
   "metadata": {},
   "outputs": [],
   "source": [
    "realignmentFrequencies = get_aa_frequencies_by_site(sequence_matrix_2, alphabet=alphabet)\n",
    "\n",
    "if run_name + '_realigned_300x_heatmaps.npz' not in os.listdir():\n",
    "    reHeatMaps = []\n",
    "    reIndices = []\n",
    "else:\n",
    "    container = np.load(run_name + '_realigned_300x_heatmaps.npz')\n",
    "    reHeatMaps = [container[key] for key in container]\n",
    "    reIndices = list(range(len(reHeatMaps)))"
   ]
  },
  {
   "cell_type": "code",
   "execution_count": 21,
   "metadata": {},
   "outputs": [
    {
     "name": "stdout",
     "output_type": "stream",
     "text": [
      "1859 / 1860 99.9 %\n",
      "[0, 1, 2, 3, 4, 5, 6, 7, 8, 9] [1849, 1850, 1851, 1852, 1853, 1854, 1855, 1856, 1857, 1858]\n"
     ]
    }
   ],
   "source": [
    "print(len(reHeatMaps), len(reIndices))\n",
    "#print(indices[:10], indices[-10:])\n",
    "\n",
    "for x in range(len(reHeatMaps), len(frequenciesNorm)):\n",
    "    clear_output(wait=True)\n",
    "    print(len(reHeatMaps),\"/\",len(frequencies), round(len(reHeatMaps)/len(frequencies)*100, 1), \"%\")\n",
    "    print(reIndices[:min(len(indices),10)], reIndices[max(-10, -len(indices)):])\n",
    "    if x in reIndices:\n",
    "        continue\n",
    "    match_matrix = get_match_matrix(frequenciesNorm[x], realignmentFrequencies, metric=cos_vector_angle_exclude)\n",
    "    reHeatMaps.append(match_matrix)\n",
    "    reIndices.append(x)\n"
   ]
  },
  {
   "cell_type": "code",
   "execution_count": 32,
   "metadata": {},
   "outputs": [],
   "source": [
    "np.savez(run_name + '_realigned_300x_heatmaps.npz', *reHeatMaps)"
   ]
  },
  {
   "cell_type": "code",
   "execution_count": 1,
   "metadata": {},
   "outputs": [
    {
     "ename": "NameError",
     "evalue": "name 'plt' is not defined",
     "output_type": "error",
     "traceback": [
      "\u001b[0;31m---------------------------------------------------------------------------\u001b[0m",
      "\u001b[0;31mNameError\u001b[0m                                 Traceback (most recent call last)",
      "\u001b[0;32m<ipython-input-1-dddee5ee862c>\u001b[0m in \u001b[0;36m<module>\u001b[0;34m\u001b[0m\n\u001b[0;32m----> 1\u001b[0;31m \u001b[0mfig\u001b[0m\u001b[0;34m,\u001b[0m \u001b[0max\u001b[0m \u001b[0;34m=\u001b[0m \u001b[0mplt\u001b[0m\u001b[0;34m.\u001b[0m\u001b[0msubplots\u001b[0m\u001b[0;34m(\u001b[0m\u001b[0mfigsize\u001b[0m\u001b[0;34m=\u001b[0m\u001b[0;34m(\u001b[0m\u001b[0;36m6\u001b[0m\u001b[0;34m,\u001b[0m\u001b[0;36m6\u001b[0m\u001b[0;34m)\u001b[0m\u001b[0;34m)\u001b[0m\u001b[0;34m\u001b[0m\u001b[0;34m\u001b[0m\u001b[0m\n\u001b[0m\u001b[1;32m      2\u001b[0m \u001b[0;34m\u001b[0m\u001b[0m\n\u001b[1;32m      3\u001b[0m \u001b[0mi\u001b[0m \u001b[0;34m=\u001b[0m \u001b[0mnp\u001b[0m\u001b[0;34m.\u001b[0m\u001b[0mrandom\u001b[0m\u001b[0;34m.\u001b[0m\u001b[0mrandint\u001b[0m\u001b[0;34m(\u001b[0m\u001b[0;36m0\u001b[0m\u001b[0;34m,\u001b[0m \u001b[0mlen\u001b[0m\u001b[0;34m(\u001b[0m\u001b[0mreHeatMaps\u001b[0m\u001b[0;34m)\u001b[0m\u001b[0;34m)\u001b[0m\u001b[0;34m\u001b[0m\u001b[0;34m\u001b[0m\u001b[0m\n\u001b[1;32m      4\u001b[0m \u001b[0mrando\u001b[0m \u001b[0;34m=\u001b[0m \u001b[0mindices\u001b[0m\u001b[0;34m[\u001b[0m\u001b[0mi\u001b[0m\u001b[0;34m]\u001b[0m\u001b[0;34m\u001b[0m\u001b[0;34m\u001b[0m\u001b[0m\n\u001b[1;32m      5\u001b[0m \u001b[0max\u001b[0m\u001b[0;34m.\u001b[0m\u001b[0mscatter\u001b[0m\u001b[0;34m(\u001b[0m\u001b[0mheatMaps\u001b[0m\u001b[0;34m[\u001b[0m\u001b[0mrando\u001b[0m\u001b[0;34m]\u001b[0m\u001b[0;34m.\u001b[0m\u001b[0mflatten\u001b[0m\u001b[0;34m(\u001b[0m\u001b[0;34m)\u001b[0m\u001b[0;34m,\u001b[0m \u001b[0mreHeatMaps\u001b[0m\u001b[0;34m[\u001b[0m\u001b[0mrando\u001b[0m\u001b[0;34m]\u001b[0m\u001b[0;34m.\u001b[0m\u001b[0mflatten\u001b[0m\u001b[0;34m(\u001b[0m\u001b[0;34m)\u001b[0m\u001b[0;34m,\u001b[0m\u001b[0malpha\u001b[0m\u001b[0;34m=\u001b[0m\u001b[0;36m0.1\u001b[0m\u001b[0;34m,\u001b[0m\u001b[0mmarker\u001b[0m\u001b[0;34m=\u001b[0m\u001b[0;34m\"x\"\u001b[0m\u001b[0;34m)\u001b[0m\u001b[0;34m\u001b[0m\u001b[0;34m\u001b[0m\u001b[0m\n",
      "\u001b[0;31mNameError\u001b[0m: name 'plt' is not defined"
     ]
    }
   ],
   "source": [
    "fig, ax = plt.subplots(figsize=(6,6))\n",
    "\n",
    "i = np.random.randint(0, len(reHeatMaps))\n",
    "rando = indices[i]\n",
    "ax.scatter(heatMaps[rando].flatten(), reHeatMaps[rando].flatten(),alpha=0.1,marker=\"x\")\n",
    "alignment_scores = [[heatMaps[seq][s, seqs_to_align[seq][s]] for s in range(len(seqs_to_align[seq]))] \n",
    "                    for seq in range(len(realignments))]\n",
    "\n",
    "heatmap = heatMaps[rando]\n",
    "reheatmap = reHeatMaps[rando]\n",
    "realignment = realignments[rando][0]\n",
    "#print(realignment)\n",
    "path = realignment[2]\n",
    "scores_in_orig = realignment[1]\n",
    "scores_in_new = [reheatmap[s,path[s]] for s in range(len(path))]\n",
    "ax.scatter(scores_in_orig,scores_in_new,marker=\"+\",color=\"red\",zorder=15)\n",
    "\n",
    "original_path = seqs_to_align[rando]\n",
    "original_score = alignment_scores[rando]\n",
    "original_align_in_realign = [reheatmap[s,original_path[s]] for s in range(len(original_path))]\n",
    "ax.scatter(original_score,original_align_in_realign,marker=\"x\",color=\"black\")\n",
    "\n",
    "ax.plot(range(0,2), range(0,2),zorder=16,color=\"black\",linestyle=\":\")\n",
    "\n",
    "\n",
    "print(\"Mean Score Before Realignment:          \", np.mean(heatmap))\n",
    "print(\"Mean Score After Realignment:           \", np.mean(reheatmap))\n",
    "print(\"R^2 =                                   \",np.corrcoef(heatmap.flatten(), reheatmap.flatten())[0,1]**2)\n",
    "\n",
    "print(\"Mean Realigned Score Before Realignment:\", np.mean(scores_in_orig))\n",
    "print(\"Mean Realigned Score After Realignment: \", np.mean(scores_in_new))\n",
    "print(\"R^2 =                                   \",np.corrcoef(scores_in_orig, scores_in_new)[0,1]**2)\n",
    "\n",
    "print(\"Mean Unaligned Score Before Realignment:\", np.mean(original_score))\n",
    "print(\"Mean Unaligned Score After Realignment: \", np.mean(original_align_in_realign))\n",
    "print(\"R^2 =                                   \",np.corrcoef(original_score, original_align_in_realign)[0,1]**2)\n",
    "ax.set_xlim(0,1)\n",
    "ax.set_ylim(0,1)\n",
    "ax.set_xlabel(\"Score in original alignment\")\n",
    "ax.set_ylabel(\"Score in new alignment\")"
   ]
  },
  {
   "cell_type": "code",
   "execution_count": 30,
   "metadata": {},
   "outputs": [
    {
     "name": "stdout",
     "output_type": "stream",
     "text": [
      "R^2 =  0.9781787268518037\n",
      "R^2 no gaps =  0.9058922878353878\n"
     ]
    },
    {
     "data": {
      "image/png": "[encoded data removed]",
      "text/plain": [
       "<Figure size 432x432 with 1 Axes>"
      ]
     },
     "metadata": {
      "needs_background": "light"
     },
     "output_type": "display_data"
    }
   ],
   "source": [
    "fig, ax = plt.subplots(figsize=(6,6))\n",
    "\n",
    "for i in range(0, realignmentFrequencies.shape[0]):\n",
    "    x, y = alignmentFrequencies[i,:], realignmentFrequencies[i,:]\n",
    "    if i == 0:\n",
    "        ax.scatter(x, y,label=inverse_alphabet[i],marker=\"x\",color=\"black\", alpha=0.1,zorder=-100)\n",
    "    else:\n",
    "        ax.scatter(x, y,label=inverse_alphabet[i],marker=\"x\",alpha=1)\n",
    "        for a,b in zip(x,y):\n",
    "            if max(a,b) > 0.2:\n",
    "                ax.annotate(inverse_alphabet[i],  xy=(a, b))\n",
    "#ax.legend(ncol=3)\n",
    "ax.set_xlim(0,1)\n",
    "ax.set_ylim(0,1)\n",
    "\n",
    "ax.set_xlabel(\"Fraction in original alignment\")\n",
    "ax.set_ylabel(\"Fraction in new alignment\")\n",
    "\n",
    "print(\"R^2 = \",np.corrcoef(alignmentFrequencies.flatten(), realignmentFrequencies.flatten())[0,1]**2)\n",
    "print(\"R^2 no gaps = \", np.corrcoef(alignmentFrequencies[1:,:].flatten(), realignmentFrequencies[1:,:].flatten())[0,1]**2)\n"
   ]
  }
 ],
 "metadata": {
  "kernelspec": {
   "display_name": "Python 3",
   "language": "python",
   "name": "python3"
  },
  "language_info": {
   "codemirror_mode": {
    "name": "ipython",
    "version": 3
   },
   "file_extension": ".py",
   "mimetype": "text/x-python",
   "name": "python",
   "nbconvert_exporter": "python",
   "pygments_lexer": "ipython3",
   "version": "3.8.5"
  }
 },
 "nbformat": 4,
 "nbformat_minor": 4
}
